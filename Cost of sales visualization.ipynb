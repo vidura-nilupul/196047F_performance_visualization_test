{
 "cells": [
  {
   "cell_type": "code",
   "execution_count": null,
   "metadata": {},
   "outputs": [],
   "source": [
    "#import the library\n",
    "import matplotlib.pyplot as plt\n",
    "\n",
    "#input variables\n",
    "X=[\"Jan\",\"Feb\",\"Mar\",\"April\"]\n",
    "Y=[58,49,67,59]\n",
    "\n",
    "#plot\n",
    "plt.plot(X, Y)\n",
    "plt.title(\"cost of sales\") \n",
    "plt.show()"
   ]
  },
  {
   "cell_type": "code",
   "execution_count": null,
   "metadata": {},
   "outputs": [],
   "source": []
  }
 ],
 "metadata": {
  "kernelspec": {
   "display_name": "Python 3",
   "language": "python",
   "name": "python3"
  },
  "language_info": {
   "codemirror_mode": {
    "name": "ipython",
    "version": 3
   },
   "file_extension": ".py",
   "mimetype": "text/x-python",
   "name": "python",
   "nbconvert_exporter": "python",
   "pygments_lexer": "ipython3",
   "version": "3.7.4"
  }
 },
 "nbformat": 4,
 "nbformat_minor": 2
}
